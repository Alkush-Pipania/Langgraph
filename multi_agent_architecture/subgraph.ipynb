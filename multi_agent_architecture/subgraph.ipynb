{
 "cells": [
  {
   "cell_type": "code",
   "execution_count": 1,
   "id": "094c0cda",
   "metadata": {},
   "outputs": [
    {
     "name": "stderr",
     "output_type": "stream",
     "text": [
      "C:\\Users\\alkus\\AppData\\Local\\Temp\\ipykernel_35808\\4144572755.py:14: LangChainDeprecationWarning: The class `TavilySearchResults` was deprecated in LangChain 0.3.25 and will be removed in 1.0. An updated version of the class exists in the :class:`~langchain-tavily package and should be used instead. To use it run `pip install -U :class:`~langchain-tavily` and import as `from :class:`~langchain_tavily import TavilySearch``.\n",
      "  search_tool = TavilySearchResults(max_results=2)\n"
     ]
    }
   ],
   "source": [
    "from typing import TypedDict, Annotated\n",
    "from langgraph.graph import add_messages, StateGraph, END\n",
    "from langchain_groq import ChatGroq\n",
    "from langchain_core.messages import AIMessage, HumanMessage\n",
    "from dotenv import load_dotenv\n",
    "from langchain_community.tools.tavily_search import TavilySearchResults\n",
    "from langgraph.prebuilt import ToolNode\n",
    "\n",
    "load_dotenv()\n",
    "\n",
    "class ChildState(TypedDict):\n",
    "    messages: Annotated[list, add_messages]\n",
    "\n",
    "search_tool = TavilySearchResults(max_results=2)\n",
    "tools = [search_tool]\n",
    "\n",
    "llm = ChatGroq(model=\"llama-3.1-8b-instant\")\n",
    "\n",
    "llm_with_tools = llm.bind_tools(tools=tools)\n",
    "\n",
    "def agent(state: ChildState):\n",
    "    return {\n",
    "        \"messages\": [llm_with_tools.invoke(state[\"messages\"])], \n",
    "    }\n",
    "\n",
    "def tools_router(state: ChildState):\n",
    "    last_message = state[\"messages\"][-1]\n",
    "\n",
    "    if(hasattr(last_message, \"tool_calls\") and len(last_message.tool_calls) > 0):\n",
    "        return \"tool_node\"\n",
    "    else: \n",
    "        return END\n",
    "    \n",
    "\n",
    "tool_node = ToolNode(tools=tools)\n",
    "\n",
    "subgraph = StateGraph(ChildState)\n",
    "\n",
    "subgraph.add_node(\"agent\", agent)\n",
    "subgraph.add_node(\"tool_node\", tool_node)\n",
    "subgraph.set_entry_point(\"agent\")\n",
    "\n",
    "subgraph.add_conditional_edges(\"agent\", tools_router)\n",
    "subgraph.add_edge(\"tool_node\", \"agent\")\n",
    "\n",
    "search_app = subgraph.compile()"
   ]
  },
  {
   "cell_type": "code",
   "execution_count": 2,
   "id": "4bc824a0",
   "metadata": {},
   "outputs": [
    {
     "data": {
      "image/png": "[encoded data removed]",
      "text/plain": [
       "<IPython.core.display.Image object>"
      ]
     },
     "metadata": {},
     "output_type": "display_data"
    }
   ],
   "source": [
    "from IPython.display import Image, display\n",
    "from langchain_core.runnables.graph import MermaidDrawMethod\n",
    "\n",
    "display(\n",
    "    Image(\n",
    "        search_app.get_graph().draw_mermaid_png(\n",
    "            draw_method=MermaidDrawMethod.API\n",
    "        )\n",
    "    )\n",
    ")"
   ]
  },
  {
   "cell_type": "code",
   "execution_count": 3,
   "id": "88bab763",
   "metadata": {},
   "outputs": [
    {
     "data": {
      "text/plain": [
       "{'messages': [HumanMessage(content='How is the weather in Chennai?', additional_kwargs={}, response_metadata={}, id='1ab1fa36-2744-41af-b0fe-1d7178448b07'),\n",
       "  AIMessage(content='', additional_kwargs={'tool_calls': [{'id': 'ggsh76023', 'function': {'arguments': '{\"query\":\"Chennai weather\"}', 'name': 'tavily_search_results_json'}, 'type': 'function'}]}, response_metadata={'token_usage': {'completion_tokens': 20, 'prompt_tokens': 285, 'total_tokens': 305, 'completion_time': 0.03646335, 'prompt_time': 0.017111717, 'queue_time': 0.052231293, 'total_time': 0.053575067}, 'model_name': 'llama-3.1-8b-instant', 'system_fingerprint': 'fp_0f5c9bc037', 'finish_reason': 'tool_calls', 'logprobs': None}, id='run--7c334b42-b0e6-4f30-9607-93526a1610fb-0', tool_calls=[{'name': 'tavily_search_results_json', 'args': {'query': 'Chennai weather'}, 'id': 'ggsh76023', 'type': 'tool_call'}], usage_metadata={'input_tokens': 285, 'output_tokens': 20, 'total_tokens': 305}),\n",
       "  ToolMessage(content='[{\"title\": \"Chennai Weather Forecast and AQI Today on February 7, 2025: Warm ... - MSN\", \"url\": \"https://www.msn.com/en-in/news/India/chennai-weather-forecast-and-aqi-today-on-february-7-2025-warm-start-at-233-c-find-out-the-complete-weather-forecast/ar-AA1yySRL\", \"content\": \"Chennai Weather Forecast and AQI Today: The temperature in Chennai recorded 27.14 °C on February 7, 2025, as per the India Meteorological Department (IMD). The forecast from IMD indicates a\", \"score\": 0.93554133}, {\"title\": \"Weather in Chennai in February 2025 (State of Tamil Nādu) - detailed ...\", \"url\": \"https://world-weather.info/forecast/india/chennai_1/february-2025/\", \"content\": \"1 +84° +77°\\\\n   2 +82° +77°\\\\n   3 +82° +73°\\\\n   4 +82° +73°\\\\n   5 +84° +75°\\\\n   6 +84° +75°\\\\n   7 +84° +75°\\\\n   8 +84° +75°\\\\n   9 +84° +75°\\\\n   10 +84° +77°\\\\n   11 +82° +77°\\\\n   12 +82° +73°\\\\n   13 +84° +73°\\\\n   14 +84° +73°\\\\n   15 +84° +73°\\\\n   16 +84° +75°\\\\n   17 +84° +75°\\\\n   18 +84° +75°\\\\n   19 +84° +75°\\\\n   20 +84° +75°\\\\n   21 +84° +77°\\\\n   22 +84° +77°\\\\n   23 +84° +77°\\\\n   24 +84° +77°\\\\n   25 +84° +77°\\\\n   26 +86° +79°\\\\n   27 +84° +81°\\\\n   28 +84° +79°\", \"score\": 0.914176}]', name='tavily_search_results_json', id='554138c5-b897-46e4-8d2b-6cfe86042854', tool_call_id='ggsh76023', artifact={'query': 'Chennai weather', 'follow_up_questions': None, 'answer': None, 'images': [], 'results': [{'title': 'Chennai Weather Forecast and AQI Today on February 7, 2025: Warm ... - MSN', 'url': 'https://www.msn.com/en-in/news/India/chennai-weather-forecast-and-aqi-today-on-february-7-2025-warm-start-at-233-c-find-out-the-complete-weather-forecast/ar-AA1yySRL', 'content': 'Chennai Weather Forecast and AQI Today: The temperature in Chennai recorded 27.14 °C on February 7, 2025, as per the India Meteorological Department (IMD). The forecast from IMD indicates a', 'score': 0.93554133, 'raw_content': None}, {'title': 'Weather in Chennai in February 2025 (State of Tamil Nādu) - detailed ...', 'url': 'https://world-weather.info/forecast/india/chennai_1/february-2025/', 'content': '1 +84° +77°\\n   2 +82° +77°\\n   3 +82° +73°\\n   4 +82° +73°\\n   5 +84° +75°\\n   6 +84° +75°\\n   7 +84° +75°\\n   8 +84° +75°\\n   9 +84° +75°\\n   10 +84° +77°\\n   11 +82° +77°\\n   12 +82° +73°\\n   13 +84° +73°\\n   14 +84° +73°\\n   15 +84° +73°\\n   16 +84° +75°\\n   17 +84° +75°\\n   18 +84° +75°\\n   19 +84° +75°\\n   20 +84° +75°\\n   21 +84° +77°\\n   22 +84° +77°\\n   23 +84° +77°\\n   24 +84° +77°\\n   25 +84° +77°\\n   26 +86° +79°\\n   27 +84° +81°\\n   28 +84° +79°', 'score': 0.914176, 'raw_content': None}], 'response_time': 3.28}),\n",
       "  AIMessage(content='The weather in Chennai is expected to be warm with a temperature of 27.14 °C on February 7, 2025. The forecast indicates a chance of rain and a moderate air quality index.', additional_kwargs={}, response_metadata={'token_usage': {'completion_tokens': 43, 'prompt_tokens': 828, 'total_tokens': 871, 'completion_time': 0.065329724, 'prompt_time': 0.052513639, 'queue_time': 0.048066820999999996, 'total_time': 0.117843363}, 'model_name': 'llama-3.1-8b-instant', 'system_fingerprint': 'fp_510c177af0', 'finish_reason': 'stop', 'logprobs': None}, id='run--b80f38c5-52c9-438f-b0ad-c3cd9cc7645b-0', usage_metadata={'input_tokens': 828, 'output_tokens': 43, 'total_tokens': 871})]}"
      ]
     },
     "execution_count": 3,
     "metadata": {},
     "output_type": "execute_result"
    }
   ],
   "source": [
    "search_app.invoke({\"messages\": [HumanMessage(content=\"How is the weather in Chennai?\")]})"
   ]
  },
  {
   "cell_type": "code",
   "execution_count": null,
   "id": "d2dbd654",
   "metadata": {},
   "outputs": [],
   "source": [
    "from typing import TypedDict, Annotated\n",
    "from langgraph.graph import add_messages, StateGraph, START, END\n",
    "from langchain_core.messages import HumanMessage\n",
    "\n",
    "# Define parent graph with the same schema\n",
    "class ParentState(TypedDict):\n",
    "    messages: Annotated[list, add_messages]\n",
    "\n",
    "# Create parent graph\n",
    "parent_graph = StateGraph(ParentState)\n",
    "\n",
    "# Add the subgraph as a node\n",
    "parent_graph.add_node(\"search_agent\", search_app)\n",
    "\n",
    "# Connect the flow\n",
    "parent_graph.add_edge(START, \"search_agent\")\n",
    "parent_graph.add_edge(\"search_agent\", END)\n",
    "\n",
    "# Compile parent graph\n",
    "parent_app = parent_graph.compile()\n",
    "\n",
    "# Run the parent graph\n",
    "result = parent_app.invoke({\"messages\": [HumanMessage(content=\"How is the weather in Chennai?\")]})"
   ]
  },
  {
   "cell_type": "code",
   "execution_count": 10,
   "id": "c56609c3",
   "metadata": {},
   "outputs": [
    {
     "name": "stdout",
     "output_type": "stream",
     "text": [
      "{'query': 'what is the exact time now in muradnagar ghaziabad India , search time on tavily', 'response': 'The exact time in Muradnagar, Ghaziabad, India is not explicitly mentioned in the search results. However, based on the information provided, it appears that the current time in Muradnagar, India is 01:51.'}\n"
     ]
    }
   ],
   "source": [
    "from typing import TypedDict, Annotated, Dict\n",
    "from langgraph.graph import StateGraph, START, END\n",
    "from langchain_core.messages import HumanMessage\n",
    "\n",
    "# Define parent graph with different schema\n",
    "class QueryState(TypedDict):\n",
    "    query: str\n",
    "    response: str\n",
    "\n",
    "# Function to invoke subgraph\n",
    "def search_agent(state: QueryState) -> Dict:\n",
    "    # Transform from parent schema to subgraph schema\n",
    "    subgraph_input = {\n",
    "        \"messages\": [HumanMessage(content=state[\"query\"])]\n",
    "    }\n",
    "    \n",
    "    # Invoke the subgraph\n",
    "    subgraph_result = search_app.invoke(subgraph_input)\n",
    "    \n",
    "    # Transform response back to parent schema\n",
    "    assistant_message = subgraph_result[\"messages\"][-1]\n",
    "    return {\"response\": assistant_message.content}\n",
    "\n",
    "# Create parent graph\n",
    "parent_graph = StateGraph(QueryState)\n",
    "\n",
    "# Add transformation node that invokes subgraph\n",
    "parent_graph.add_node(\"search_agent\", search_agent)\n",
    "\n",
    "# Connect the flow\n",
    "parent_graph.add_edge(START, \"search_agent\")\n",
    "parent_graph.add_edge(\"search_agent\", END)\n",
    "\n",
    "# Compile parent graph\n",
    "parent_app = parent_graph.compile()\n",
    "\n",
    "# Run the parent graph\n",
    "result = parent_app.invoke({\"query\": \"what is the exact time now in muradnagar ghaziabad India , search time on tavily\", \"response\": \"\"})\n",
    "print(result)"
   ]
  }
 ],
 "metadata": {
  "kernelspec": {
   "display_name": "env",
   "language": "python",
   "name": "python3"
  },
  "language_info": {
   "codemirror_mode": {
    "name": "ipython",
    "version": 3
   },
   "file_extension": ".py",
   "mimetype": "text/x-python",
   "name": "python",
   "nbconvert_exporter": "python",
   "pygments_lexer": "ipython3",
   "version": "3.12.3"
  }
 },
 "nbformat": 4,
 "nbformat_minor": 5
}
